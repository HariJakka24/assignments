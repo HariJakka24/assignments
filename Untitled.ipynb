{
 "cells": [
  {
   "cell_type": "code",
   "execution_count": 10,
   "id": "ac4d5139",
   "metadata": {},
   "outputs": [
    {
     "name": "stdout",
     "output_type": "stream",
     "text": [
      "Enter password length: 60\n",
      "\u001b[H\u001b[2Jol(qN(gDot@EoG|KWjD\\@Mbcmq04TisU^q8/4uI4nOzTXP,Qq|01XB&0D(k)\n"
     ]
    }
   ],
   "source": [
    "import random\n",
    "import string\n",
    "import os\n",
    "\n",
    "characters = list(string.ascii_letters + string.digits + \"!@#$%^&*()/,'\\|{-{}\")\n",
    "while True:\n",
    "    try:\n",
    "        while True:\n",
    "            length = int(input(\"Enter password length: \"))\n",
    "            if(length > 0):\n",
    "                passwrd = random.choices(characters, k = length)\n",
    "                os.system('clear')\n",
    "                print(\"\".join(passwrd))\n",
    "                break\n",
    "            else:\n",
    "                print(\"Length should be greater than zero\")\n",
    "        break\n",
    "    except ValueError as err:\n",
    "        print(\"Enter integer value\")\n"
   ]
  },
  {
   "cell_type": "code",
   "execution_count": null,
   "id": "303b89a7",
   "metadata": {},
   "outputs": [],
   "source": []
  }
 ],
 "metadata": {
  "kernelspec": {
   "display_name": "Python 3 (ipykernel)",
   "language": "python",
   "name": "python3"
  },
  "language_info": {
   "codemirror_mode": {
    "name": "ipython",
    "version": 3
   },
   "file_extension": ".py",
   "mimetype": "text/x-python",
   "name": "python",
   "nbconvert_exporter": "python",
   "pygments_lexer": "ipython3",
   "version": "3.8.10"
  }
 },
 "nbformat": 4,
 "nbformat_minor": 5
}
